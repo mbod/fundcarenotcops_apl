{
 "cells": [
  {
   "cell_type": "markdown",
   "metadata": {},
   "source": [
    "# Merging geojson data and getting counts for community resources\n",
    "\n",
    "This code merges all geojson datapoints from the community resources thus far collected (as of 10/23). A next step here will be to determine what resources we want to include in a first pass analysis.\n",
    "\n",
    "```\n",
    "change-log\n",
    "- JMP 10/23/2020\n",
    "```"
   ]
  },
  {
   "cell_type": "code",
   "execution_count": 2,
   "metadata": {},
   "outputs": [],
   "source": [
    "import pandas as pd\n",
    "import geopandas as gpd\n",
    "import os\n",
    "\n",
    "%matplotlib inline"
   ]
  },
  {
   "cell_type": "markdown",
   "metadata": {},
   "source": [
    "## Merging datasets with geospatial data"
   ]
  },
  {
   "cell_type": "markdown",
   "metadata": {},
   "source": [
    "#### Adult Resources"
   ]
  },
  {
   "cell_type": "code",
   "execution_count": 3,
   "metadata": {},
   "outputs": [],
   "source": [
    "PhillyMap = gpd.read_file('../data/Council_Districts_2000.geojson')"
   ]
  },
  {
   "cell_type": "code",
   "execution_count": 4,
   "metadata": {},
   "outputs": [],
   "source": [
    "# Housing Counseling\n",
    "housing_resources = gpd.read_file('../data/adult_resources/HousingCounselingAgencies.geojson')\n",
    "housing_resources['Resource_Category'] = \"Adult Resources\"\n",
    "housing_resources['Resource'] = \"Housing Counseling\"\n",
    "housing_resources['Description'] = housing_resources['AGENCY']\n",
    "\n",
    "housing_resources = housing_resources[['Resource_Category',\"Resource\",\"Description\",\"geometry\"]]"
   ]
  },
  {
   "cell_type": "markdown",
   "metadata": {},
   "source": [
    "#### City Buildings"
   ]
  },
  {
   "cell_type": "code",
   "execution_count": 5,
   "metadata": {},
   "outputs": [],
   "source": [
    "Hospitals = gpd.read_file('../data/city_buildings/Hospitals.geojson')\n",
    "Hospitals['Resource_Category'] = \"City Buildings\"\n",
    "Hospitals['Resource'] = \"Hospital\"\n",
    "Hospitals['Description'] = Hospitals['HOSPITAL_NAME']\n",
    "Hospitals = Hospitals[['Resource_Category',\"Resource\",\"Description\",\"geometry\"]]"
   ]
  },
  {
   "cell_type": "markdown",
   "metadata": {},
   "source": [
    "#### City Maintenance"
   ]
  },
  {
   "cell_type": "code",
   "execution_count": 6,
   "metadata": {},
   "outputs": [
    {
     "name": "stderr",
     "output_type": "stream",
     "text": [
      "/Users/jake/anaconda/envs/Amistad_env/lib/python3.6/site-packages/ipykernel_launcher.py:6: UserWarning: Geometry is in a geographic CRS. Results from 'centroid' are likely incorrect. Use 'GeoSeries.to_crs()' to re-project geometries to a projected CRS before this operation.\n",
      "\n",
      "  \n"
     ]
    }
   ],
   "source": [
    "# land care program\n",
    "landcare = gpd.read_file('../data/City_maintenance/PHS_PhilaLandCare_Maintenance.geojson')\n",
    "landcare['Resource_Category'] = \"City Maintenance\"\n",
    "landcare['Resource'] = \"Land Care Restoration\"\n",
    "landcare['Description'] = landcare['ADDRESS']\n",
    "landcare['geometry'] = landcare.geometry.centroid\n",
    "landcare = landcare[['Resource_Category',\"Resource\",\"Description\",\"geometry\"]]\n",
    "\n",
    "# Street light\n",
    "street_light = gpd.read_file('../data/City_maintenance/Street_Poles (2).geojson')\n",
    "street_light['Resource_Category'] = \"City Maintenance\"\n",
    "street_light['Resource'] = \"Light Poles\"\n",
    "street_light['Description'] = street_light['POLE_NUM']\n",
    "street_light = street_light[['Resource_Category',\"Resource\",\"Description\",\"geometry\"]]\n",
    "\n",
    "# Waste Basket big belly\n",
    "big_belly = gpd.read_file('../data/City_maintenance/wastebaskets_big_belly.geojson')\n",
    "big_belly['Resource_Category'] = \"City Maintenance\"\n",
    "big_belly['Resource'] = \"Waste Bin\"\n",
    "big_belly['Description'] = 'Big Belly'\n",
    "big_belly = big_belly[['Resource_Category',\"Resource\",\"Description\",\"geometry\"]]\n",
    "\n",
    "# Waste Basket Wire\n",
    "wire_belly = gpd.read_file('../data/City_maintenance/WasteBaskets_Wire.geojson')\n",
    "wire_belly['Resource_Category'] = \"City Maintenance\"\n",
    "wire_belly['Resource'] = \"Waste Bin\"\n",
    "wire_belly['Description'] = 'Small Wire'\n",
    "wire_belly = wire_belly[['Resource_Category',\"Resource\",\"Description\",\"geometry\"]]\n",
    "\n",
    "# # Trees\n",
    "# trees = gpd.read_file('../data/City_maintenance/PPR_StreetTrees.geojson')\n",
    "# trees['Resource_Category'] = \"City Maintenance\"\n",
    "# trees['Resource'] = \"Trees\"\n",
    "# trees['Description'] = 'Tree'\n",
    "# trees = trees[['Resource_Category',\"Resource\",\"Description\",\"geometry\"]]"
   ]
  },
  {
   "cell_type": "markdown",
   "metadata": {},
   "source": [
    "#### Community Centers"
   ]
  },
  {
   "cell_type": "code",
   "execution_count": 7,
   "metadata": {},
   "outputs": [],
   "source": [
    "# Health Centers\n",
    "Condoms = gpd.read_file('../data/community_centers/Condom_distribution_sites.geojson')\n",
    "Condoms['Resource_Category'] = \"Community Center\"\n",
    "Condoms['Resource'] = \"Condom Distribution Site\"\n",
    "Condoms['Description'] = Condoms[\"SITE_NAME\"]\n",
    "Condoms = Condoms[['Resource_Category',\"Resource\",\"Description\",\"geometry\"]]\n",
    "\n",
    "# Flu shot clinic\n",
    "\n",
    "## These clinics are only around for a certain period of time, as such\n",
    "## We many not wish to include this data\n",
    "# Flu = gpd.read_file('../data/community_centers/Condom_distribution_sites.geojson')\n",
    "# Flu['Resource_Category'] = \"Community Center\"\n",
    "# Flu['Resource'] = \"Condom Distribution Site\"\n",
    "# Flu['Description'] = Flu[\"FACILITY\"]\n",
    "# Flu = Flu[['Resource_Category',\"Resource\",\"Description\",\"geometry\"]]\n",
    "\n",
    "# HIV Treatment Center\n",
    "HIV = gpd.read_file('../data/community_centers/RW_HIV_Treatment_Centers.geojson')\n",
    "HIV = HIV.groupby('SITE_NAME').first().reset_index()\n",
    "HIV['Resource_Category'] = \"Community Center\"\n",
    "HIV['Resource'] = \"HIV clinic\"\n",
    "HIV['Description'] = HIV[\"SITE_NAME\"]\n",
    "HIV = HIV[['Resource_Category',\"Resource\",\"Description\",\"geometry\"]]\n",
    "\n",
    "# Healthy Start\n",
    "HS = gpd.read_file('../data/community_centers/Healthy_Start_CRCs.geojson')\n",
    "HS['Resource_Category'] = \"Community Center\"\n",
    "HS['Resource'] = \"Healthy Start\"\n",
    "HS['Description'] = HS[\"FACILITY_NAME\"]\n",
    "HS = HS[['Resource_Category',\"Resource\",\"Description\",\"geometry\"]]"
   ]
  },
  {
   "cell_type": "markdown",
   "metadata": {},
   "source": [
    "#### Food Resources"
   ]
  },
  {
   "cell_type": "code",
   "execution_count": 8,
   "metadata": {
    "scrolled": true
   },
   "outputs": [],
   "source": [
    "# this data is complicated and is not simply binary, it includes amount of high,medium,low quality food resources\n",
    "food_retail = gpd.read_file('../data/food_resources/NeighborhoodFoodRetail.geojson')"
   ]
  },
  {
   "cell_type": "markdown",
   "metadata": {},
   "source": [
    "#### Housing"
   ]
  },
  {
   "cell_type": "code",
   "execution_count": 9,
   "metadata": {},
   "outputs": [],
   "source": [
    "# Affordable Housing\n",
    "housing = gpd.read_file('../data/housing/Affordable_Housing.geojson')\n",
    "housing['Resource_Category'] = \"Housing\"\n",
    "housing['Resource'] = \"Affordable Housing\"\n",
    "housing['Description'] = housing[\"PROJECT_NAME\"]\n",
    "housing = housing[['Resource_Category',\"Resource\",\"Description\",\"geometry\"]]"
   ]
  },
  {
   "cell_type": "markdown",
   "metadata": {},
   "source": [
    "#### Properties"
   ]
  },
  {
   "cell_type": "code",
   "execution_count": 10,
   "metadata": {},
   "outputs": [
    {
     "name": "stderr",
     "output_type": "stream",
     "text": [
      "/Users/jake/anaconda/envs/Amistad_env/lib/python3.6/site-packages/ipykernel_launcher.py:13: UserWarning: Geometry is in a geographic CRS. Results from 'centroid' are likely incorrect. Use 'GeoSeries.to_crs()' to re-project geometries to a projected CRS before this operation.\n",
      "\n",
      "  del sys.path[0]\n"
     ]
    }
   ],
   "source": [
    "# demolished properties\n",
    "demo = gpd.read_file('../data/property/demolitions.geojson')\n",
    "demo['Resource_Category'] = \"Properties\"\n",
    "demo['Resource'] = \"Demolitions\"\n",
    "demo['Description'] = demo[\"address\"]\n",
    "demo = demo[['Resource_Category',\"Resource\",\"Description\",\"geometry\"]]\n",
    "\n",
    "# public art\n",
    "art_public = gpd.read_file('../data/property/percent_for_art_public.geojson')\n",
    "art_public['Resource_Category'] = \"Properties\"\n",
    "art_public['Resource'] = \"Public Art\"\n",
    "art_public['Description'] = art_public[\"title\"]\n",
    "art_public['geometry'] = art_public['geometry'].centroid\n",
    "art_public = art_public[['Resource_Category',\"Resource\",\"Description\",\"geometry\"]]\n",
    "\n",
    "# Schools\n",
    "schools = gpd.read_file('../data/schools/Schools.geojson')\n",
    "schools['Resource_Category'] = \"Properties\"\n",
    "schools['Resource'] = \"School\"\n",
    "schools['Description'] = schools[\"SCHOOL_NAME\"]\n",
    "schools = schools[['Resource_Category',\"Resource\",\"Description\",\"geometry\"]]"
   ]
  },
  {
   "cell_type": "code",
   "execution_count": 11,
   "metadata": {},
   "outputs": [],
   "source": [
    "combined_df = pd.concat([housing_resources,Hospitals,landcare,street_light,big_belly,wire_belly,\n",
    "                        Condoms,HIV,HS,housing,demo,art_public,schools])"
   ]
  },
  {
   "cell_type": "code",
   "execution_count": 16,
   "metadata": {},
   "outputs": [],
   "source": [
    "sjoined = gpd.sjoin(combined_df,PhillyMap,op='within')\n"
   ]
  },
  {
   "cell_type": "code",
   "execution_count": 19,
   "metadata": {},
   "outputs": [
    {
     "data": {
      "text/plain": [
       "OBJECTID\n",
       "1     14061\n",
       "2     19314\n",
       "3     21208\n",
       "4     20283\n",
       "5     21256\n",
       "6     17503\n",
       "7     20497\n",
       "8     24405\n",
       "9     30810\n",
       "10    25633\n",
       "dtype: int64"
      ]
     },
     "execution_count": 19,
     "metadata": {},
     "output_type": "execute_result"
    }
   ],
   "source": [
    "sjoined.groupby('OBJECTID').size()"
   ]
  },
  {
   "cell_type": "code",
   "execution_count": null,
   "metadata": {},
   "outputs": [],
   "source": []
  }
 ],
 "metadata": {
  "kernelspec": {
   "display_name": "Amistad_env",
   "language": "python",
   "name": "amistad_env"
  },
  "language_info": {
   "codemirror_mode": {
    "name": "ipython",
    "version": 3
   },
   "file_extension": ".py",
   "mimetype": "text/x-python",
   "name": "python",
   "nbconvert_exporter": "python",
   "pygments_lexer": "ipython3",
   "version": "3.6.10"
  }
 },
 "nbformat": 4,
 "nbformat_minor": 2
}
